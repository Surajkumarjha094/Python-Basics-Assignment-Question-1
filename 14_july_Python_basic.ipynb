{
 "cells": [
  {
   "cell_type": "code",
   "execution_count": 1,
   "id": "297ce7ef-94c5-4819-81a6-be762ae63e1c",
   "metadata": {},
   "outputs": [
    {
     "name": "stdout",
     "output_type": "stream",
     "text": [
      "x: 10\n",
      "y: 5\n"
     ]
    }
   ],
   "source": [
    "#1 Declare two variables, `x` and `y`, and assign them integer values. Swap the values of these variables without using any temporary variable.\n",
    "# Initial values\n",
    "x=5\n",
    "y=10\n",
    "\n",
    "# Swapping without temporary variable\n",
    "x=x+y # x now becomes 15\n",
    "y=x-y # y now becomes 5\n",
    "x=x-y # x now becomes 10\n",
    "\n",
    "print(\"x:\",x)\n",
    "print(\"y:\",y)"
   ]
  },
  {
   "cell_type": "code",
   "execution_count": 2,
   "id": "6483b6fa-4404-4914-893e-077433b60e3a",
   "metadata": {},
   "outputs": [
    {
     "name": "stdin",
     "output_type": "stream",
     "text": [
      "Enter the length of the rectangle: 12\n",
      "Enter the width of the rectangle: 10\n"
     ]
    },
    {
     "name": "stdout",
     "output_type": "stream",
     "text": [
      "The area of the rectangle is: 120.0\n"
     ]
    }
   ],
   "source": [
    "#2 Create a program that calculates the area of a rectangle. Take the length and width as inputs from the user and store them in variables. Calculate and display the area.\n",
    "# Get the length and width from the user\n",
    "length=float(input(\"Enter the length of the rectangle:\"))\n",
    "width=float(input(\"Enter the width of the rectangle:\"))\n",
    "\n",
    "# Calculate the area\n",
    "area=length*width\n",
    "\n",
    "# Display the area\n",
    "print(f\"The area of the rectangle is: {area}\")"
   ]
  },
  {
   "cell_type": "code",
   "execution_count": 3,
   "id": "ef16a7c9-6a64-4dad-ace8-a16c4b759cd1",
   "metadata": {},
   "outputs": [
    {
     "name": "stdin",
     "output_type": "stream",
     "text": [
      "Enter the temperature in celsius:  32\n"
     ]
    },
    {
     "name": "stdout",
     "output_type": "stream",
     "text": [
      "The temperature in Fahrenheit is: 89.6\n"
     ]
    }
   ],
   "source": [
    "#3 Write a Python program that converts temperatures from Celsius to Fahrenheit. Take the temperature in Celsius as input, store it in a variable, convert it to Fahrenheit, and display the result.\n",
    "\n",
    "# Get the temperature in celsius from the user\n",
    "celsius=float(input(\"Enter the temperature in celsius: \"))\n",
    "\n",
    "# Convert the temperature to Fahrenheit\n",
    "fahrenheit=(celsius*9/5)+32\n",
    "\n",
    "# Display the result\n",
    "print(f\"The temperature in Fahrenheit is: {fahrenheit}\")"
   ]
  },
  {
   "cell_type": "code",
   "execution_count": 4,
   "id": "398895cf-c1ba-4e85-9ae5-98fe8a6b2073",
   "metadata": {},
   "outputs": [
    {
     "name": "stdin",
     "output_type": "stream",
     "text": [
      "Enter a string: Suraj\n"
     ]
    },
    {
     "name": "stdout",
     "output_type": "stream",
     "text": [
      "The length of the string is: 5\n"
     ]
    }
   ],
   "source": [
    "#1 Write a Python program that takes a string as input and prints the length of the string.\n",
    "\n",
    "# Get the string from the user\n",
    "user_string=input(\"Enter a string:\")\n",
    "\n",
    "# Calculate the length of the string\n",
    "string_length=len(user_string)\n",
    "\n",
    "# Display the result\n",
    "print(f\"The length of the string is: {string_length}\")"
   ]
  },
  {
   "cell_type": "code",
   "execution_count": 5,
   "id": "bffa0943-e365-4d8d-a9fe-b77b0de83836",
   "metadata": {},
   "outputs": [
    {
     "name": "stdin",
     "output_type": "stream",
     "text": [
      "Enter a sentence: This is my first Pw Skills Assignment\n"
     ]
    },
    {
     "name": "stdout",
     "output_type": "stream",
     "text": [
      "The number of vowels in the sentence is: 7\n"
     ]
    }
   ],
   "source": [
    "#2 Create a program that takes a sentence from the user and counts the number of vowels (a, e, i, o, u) in the string.\n",
    " \n",
    "# Get the sentence from the user\n",
    "sentence=input(\"Enter a sentence:\")\n",
    "\n",
    "# Define a set of vowels\n",
    "vowels=set(\"aeiouAEIOU\")\n",
    "\n",
    "# Initialize a counter for vowels\n",
    "vowel_count=0\n",
    "\n",
    "# Count the number of vowels in the sentence\n",
    "for char in sentence:\n",
    "    if char in vowels:\n",
    "        vowel_count +=1\n",
    "        \n",
    "# Display the result\n",
    "print(f\"The number of vowels in the sentence is: {vowel_count}\")"
   ]
  },
  {
   "cell_type": "code",
   "execution_count": 6,
   "id": "88013029-6c91-4009-a617-e0ee5354ec7d",
   "metadata": {},
   "outputs": [
    {
     "name": "stdin",
     "output_type": "stream",
     "text": [
      "Enter a string: python\n"
     ]
    },
    {
     "name": "stdout",
     "output_type": "stream",
     "text": [
      "The reversed string is: nohtyp\n"
     ]
    }
   ],
   "source": [
    "#3 Given a string, reverse the order of characters using string slicing and print the reversed string.\n",
    "\n",
    "# Get the string from the user\n",
    "original_string=input(\"Enter a string:\")\n",
    "\n",
    "# Reverse the string using slicing\n",
    "reversed_string=original_string[::-1]\n",
    "\n",
    "# Display the reversed string\n",
    "print(f\"The reversed string is: {reversed_string}\")"
   ]
  },
  {
   "cell_type": "code",
   "execution_count": 7,
   "id": "994b226e-8c35-4c6b-bebd-05f977b88485",
   "metadata": {},
   "outputs": [
    {
     "name": "stdin",
     "output_type": "stream",
     "text": [
      "Enter a string: PW skills\n"
     ]
    },
    {
     "name": "stdout",
     "output_type": "stream",
     "text": [
      "The string 'PW skills' is not a palindrome.\n"
     ]
    }
   ],
   "source": [
    "#4 Write a program that takes a string as input and checks if it is a palindrome (reads the same forwards and backwards).\n",
    "\n",
    "# Get the string from the user\n",
    "input_string=input(\"Enter a string:\")\n",
    "\n",
    "# Normalize the string by removing spaces and converting to lowercase\n",
    "normalized_string=input_string.replace(\" \", \"\").lower()\n",
    "\n",
    "# Check if the string is a palindrome\n",
    "is_palindrome=normalized_string==normalized_string[::-1]\n",
    "\n",
    "# Display the result\n",
    "if is_palindrome:\n",
    "    print(f\"The string '{input_string}' is a palindrome.\")\n",
    "else:\n",
    "    print(f\"The string '{input_string}' is not a palindrome.\")"
   ]
  },
  {
   "cell_type": "code",
   "execution_count": 8,
   "id": "4037eb1d-9fa8-4031-886b-e38d80f69a85",
   "metadata": {},
   "outputs": [
    {
     "name": "stdin",
     "output_type": "stream",
     "text": [
      "Enter a string: A pple\n"
     ]
    },
    {
     "name": "stdout",
     "output_type": "stream",
     "text": [
      "The string without spaces is: Apple\n"
     ]
    }
   ],
   "source": [
    "#5 Create a program that takes a string as input and removes all the spaces from it. Print the modified string without spaces.\n",
    "\n",
    "# Get the string from the user\n",
    "input_string=input(\"Enter a string:\")\n",
    "\n",
    "# Remove all spaces from the string\n",
    "modified_string=input_string.replace(\" \",\"\")\n",
    "\n",
    "# Display the modified string\n",
    "print(f\"The string without spaces is: {modified_string}\")"
   ]
  },
  {
   "cell_type": "code",
   "execution_count": null,
   "id": "26b71d8e-d263-44a5-bd35-a36e98c6e8cf",
   "metadata": {},
   "outputs": [],
   "source": []
  }
 ],
 "metadata": {
  "kernelspec": {
   "display_name": "Python 3 (ipykernel)",
   "language": "python",
   "name": "python3"
  },
  "language_info": {
   "codemirror_mode": {
    "name": "ipython",
    "version": 3
   },
   "file_extension": ".py",
   "mimetype": "text/x-python",
   "name": "python",
   "nbconvert_exporter": "python",
   "pygments_lexer": "ipython3",
   "version": "3.10.8"
  }
 },
 "nbformat": 4,
 "nbformat_minor": 5
}
